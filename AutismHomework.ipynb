{
  "nbformat": 4,
  "nbformat_minor": 0,
  "metadata": {
    "colab": {
      "name": "AutismHomework.ipynb",
      "provenance": [],
      "include_colab_link": true
    },
    "kernelspec": {
      "name": "python3",
      "display_name": "Python 3"
    }
  },
  "cells": [
    {
      "cell_type": "markdown",
      "metadata": {
        "id": "view-in-github",
        "colab_type": "text"
      },
      "source": [
        "<a href=\"https://colab.research.google.com/github/avelasqu/Mortality-in-USA/blob/master/AutismHomework.ipynb\" target=\"_parent\"><img src=\"https://colab.research.google.com/assets/colab-badge.svg\" alt=\"Open In Colab\"/></a>"
      ]
    },
    {
      "cell_type": "code",
      "metadata": {
        "id": "Sxy07LQsqZMZ",
        "colab_type": "code",
        "colab": {}
      },
      "source": [
        "from altair import Chart\n",
        "import pandas as pd\n"
      ],
      "execution_count": 0,
      "outputs": []
    },
    {
      "cell_type": "code",
      "metadata": {
        "id": "f4LBlu_8qWPo",
        "colab_type": "code",
        "colab": {}
      },
      "source": [
        "autism_data = pd.read_csv('https://raw.githubusercontent.com/avelasqu/Autism/bfb03718a8a03d4dcfe9e329d67be36ede9272f3/ADV_AllData.csv?token=ANSLAI6BU5G5Q67RMDTNZ5S5YIA44')"
      ],
      "execution_count": 0,
      "outputs": []
    },
    {
      "cell_type": "code",
      "metadata": {
        "id": "HU8Llt8O1LJ6",
        "colab_type": "code",
        "colab": {
          "base_uri": "https://localhost:8080/",
          "height": 204
        },
        "outputId": "5499ef41-2e97-4ffe-f47c-7c7d6c194e3f"
      },
      "source": [
        "autism_data.head()"
      ],
      "execution_count": 7,
      "outputs": [
        {
          "output_type": "execute_result",
          "data": {
            "text/html": [
              "<div>\n",
              "<style scoped>\n",
              "    .dataframe tbody tr th:only-of-type {\n",
              "        vertical-align: middle;\n",
              "    }\n",
              "\n",
              "    .dataframe tbody tr th {\n",
              "        vertical-align: top;\n",
              "    }\n",
              "\n",
              "    .dataframe thead th {\n",
              "        text-align: right;\n",
              "    }\n",
              "</style>\n",
              "<table border=\"1\" class=\"dataframe\">\n",
              "  <thead>\n",
              "    <tr style=\"text-align: right;\">\n",
              "      <th></th>\n",
              "      <th>National Prevalence Estimates</th>\n",
              "      <th>Unnamed: 1</th>\n",
              "      <th>Unnamed: 2</th>\n",
              "      <th>Unnamed: 3</th>\n",
              "      <th>Unnamed: 4</th>\n",
              "      <th>Unnamed: 5</th>\n",
              "      <th>Unnamed: 6</th>\n",
              "    </tr>\n",
              "  </thead>\n",
              "  <tbody>\n",
              "    <tr>\n",
              "      <th>0</th>\n",
              "      <td>Source</td>\n",
              "      <td>Year</td>\n",
              "      <td>Prevalence</td>\n",
              "      <td>Lower CI</td>\n",
              "      <td>Upper CI</td>\n",
              "      <td>NaN</td>\n",
              "      <td>NaN</td>\n",
              "    </tr>\n",
              "    <tr>\n",
              "      <th>1</th>\n",
              "      <td>addm</td>\n",
              "      <td>2000</td>\n",
              "      <td>6.7</td>\n",
              "      <td>6.3</td>\n",
              "      <td>7</td>\n",
              "      <td>NaN</td>\n",
              "      <td>NaN</td>\n",
              "    </tr>\n",
              "    <tr>\n",
              "      <th>2</th>\n",
              "      <td>addm</td>\n",
              "      <td>2002</td>\n",
              "      <td>6.6</td>\n",
              "      <td>6.3</td>\n",
              "      <td>6.8</td>\n",
              "      <td>NaN</td>\n",
              "      <td>NaN</td>\n",
              "    </tr>\n",
              "    <tr>\n",
              "      <th>3</th>\n",
              "      <td>addm</td>\n",
              "      <td>2004</td>\n",
              "      <td>8</td>\n",
              "      <td>7.6</td>\n",
              "      <td>8.4</td>\n",
              "      <td>NaN</td>\n",
              "      <td>NaN</td>\n",
              "    </tr>\n",
              "    <tr>\n",
              "      <th>4</th>\n",
              "      <td>addm</td>\n",
              "      <td>2006</td>\n",
              "      <td>9</td>\n",
              "      <td>8.6</td>\n",
              "      <td>9.3</td>\n",
              "      <td>NaN</td>\n",
              "      <td>NaN</td>\n",
              "    </tr>\n",
              "  </tbody>\n",
              "</table>\n",
              "</div>"
            ],
            "text/plain": [
              "  National Prevalence Estimates Unnamed: 1  ... Unnamed: 5 Unnamed: 6\n",
              "0                        Source       Year  ...        NaN        NaN\n",
              "1                          addm       2000  ...        NaN        NaN\n",
              "2                          addm       2002  ...        NaN        NaN\n",
              "3                          addm       2004  ...        NaN        NaN\n",
              "4                          addm       2006  ...        NaN        NaN\n",
              "\n",
              "[5 rows x 7 columns]"
            ]
          },
          "metadata": {
            "tags": []
          },
          "execution_count": 7
        }
      ]
    },
    {
      "cell_type": "code",
      "metadata": {
        "id": "GS9t39-S2BQR",
        "colab_type": "code",
        "colab": {
          "base_uri": "https://localhost:8080/",
          "height": 204
        },
        "outputId": "8662882b-7cc7-47e3-edec-c1f41626d253"
      },
      "source": [
        "autism_data.tail()\n"
      ],
      "execution_count": 8,
      "outputs": [
        {
          "output_type": "execute_result",
          "data": {
            "text/html": [
              "<div>\n",
              "<style scoped>\n",
              "    .dataframe tbody tr th:only-of-type {\n",
              "        vertical-align: middle;\n",
              "    }\n",
              "\n",
              "    .dataframe tbody tr th {\n",
              "        vertical-align: top;\n",
              "    }\n",
              "\n",
              "    .dataframe thead th {\n",
              "        text-align: right;\n",
              "    }\n",
              "</style>\n",
              "<table border=\"1\" class=\"dataframe\">\n",
              "  <thead>\n",
              "    <tr style=\"text-align: right;\">\n",
              "      <th></th>\n",
              "      <th>National Prevalence Estimates</th>\n",
              "      <th>Unnamed: 1</th>\n",
              "      <th>Unnamed: 2</th>\n",
              "      <th>Unnamed: 3</th>\n",
              "      <th>Unnamed: 4</th>\n",
              "      <th>Unnamed: 5</th>\n",
              "      <th>Unnamed: 6</th>\n",
              "    </tr>\n",
              "  </thead>\n",
              "  <tbody>\n",
              "    <tr>\n",
              "      <th>1733</th>\n",
              "      <td>VT</td>\n",
              "      <td>74108</td>\n",
              "      <td>12.1</td>\n",
              "      <td>11.3</td>\n",
              "      <td>12.9</td>\n",
              "      <td>2016</td>\n",
              "      <td>sped</td>\n",
              "    </tr>\n",
              "    <tr>\n",
              "      <th>1734</th>\n",
              "      <td>VA</td>\n",
              "      <td>1162945</td>\n",
              "      <td>14.2</td>\n",
              "      <td>14</td>\n",
              "      <td>14.4</td>\n",
              "      <td>2016</td>\n",
              "      <td>sped</td>\n",
              "    </tr>\n",
              "    <tr>\n",
              "      <th>1735</th>\n",
              "      <td>WA</td>\n",
              "      <td>1006676</td>\n",
              "      <td>11.2</td>\n",
              "      <td>11</td>\n",
              "      <td>11.4</td>\n",
              "      <td>2016</td>\n",
              "      <td>sped</td>\n",
              "    </tr>\n",
              "    <tr>\n",
              "      <th>1736</th>\n",
              "      <td>WV</td>\n",
              "      <td>239037</td>\n",
              "      <td>8.6</td>\n",
              "      <td>8.3</td>\n",
              "      <td>9</td>\n",
              "      <td>2016</td>\n",
              "      <td>sped</td>\n",
              "    </tr>\n",
              "    <tr>\n",
              "      <th>1737</th>\n",
              "      <td>WY</td>\n",
              "      <td>85922</td>\n",
              "      <td>9.3</td>\n",
              "      <td>8.7</td>\n",
              "      <td>10</td>\n",
              "      <td>NaN</td>\n",
              "      <td>NaN</td>\n",
              "    </tr>\n",
              "  </tbody>\n",
              "</table>\n",
              "</div>"
            ],
            "text/plain": [
              "     National Prevalence Estimates Unnamed: 1  ... Unnamed: 5 Unnamed: 6\n",
              "1733                            VT      74108  ...       2016       sped\n",
              "1734                            VA    1162945  ...       2016       sped\n",
              "1735                            WA    1006676  ...       2016       sped\n",
              "1736                            WV     239037  ...       2016       sped\n",
              "1737                            WY      85922  ...        NaN        NaN\n",
              "\n",
              "[5 rows x 7 columns]"
            ]
          },
          "metadata": {
            "tags": []
          },
          "execution_count": 8
        }
      ]
    },
    {
      "cell_type": "code",
      "metadata": {
        "id": "1tQw5_H02HK9",
        "colab_type": "code",
        "colab": {
          "base_uri": "https://localhost:8080/",
          "height": 215
        },
        "outputId": "ac87ea67-167e-47b2-c27d-d1cbaec3025c"
      },
      "source": [
        "Chart(autism_data).mark_point().encode(\n",
        "    x='Estimates:N',\n",
        "    y='Unnamed: 1:Q'\n",
        ")"
      ],
      "execution_count": 1,
      "outputs": [
        {
          "output_type": "error",
          "ename": "NameError",
          "evalue": "ignored",
          "traceback": [
            "\u001b[0;31m---------------------------------------------------------------------------\u001b[0m",
            "\u001b[0;31mNameError\u001b[0m                                 Traceback (most recent call last)",
            "\u001b[0;32m<ipython-input-1-02d87842f6c8>\u001b[0m in \u001b[0;36m<module>\u001b[0;34m()\u001b[0m\n\u001b[0;32m----> 1\u001b[0;31m Chart(autism_data).mark_point().encode(\n\u001b[0m\u001b[1;32m      2\u001b[0m     \u001b[0mx\u001b[0m\u001b[0;34m=\u001b[0m\u001b[0;34m'Estimates:N'\u001b[0m\u001b[0;34m,\u001b[0m\u001b[0;34m\u001b[0m\u001b[0;34m\u001b[0m\u001b[0m\n\u001b[1;32m      3\u001b[0m     \u001b[0my\u001b[0m\u001b[0;34m=\u001b[0m\u001b[0;34m'Unnamed: 1:Q'\u001b[0m\u001b[0;34m\u001b[0m\u001b[0;34m\u001b[0m\u001b[0m\n\u001b[1;32m      4\u001b[0m )\n",
            "\u001b[0;31mNameError\u001b[0m: name 'Chart' is not defined"
          ]
        }
      ]
    }
  ]
}